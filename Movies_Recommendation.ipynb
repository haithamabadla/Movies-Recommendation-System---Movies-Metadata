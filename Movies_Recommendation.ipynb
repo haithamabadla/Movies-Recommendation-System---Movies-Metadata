{
 "cells": [
  {
   "cell_type": "markdown",
   "id": "liberal-journal",
   "metadata": {},
   "source": [
    "# **Overview**\n",
    "\n",
    "In this notebook I will be implementing movies recommendation system using only movies metadata such as the name of the movie, actors, directors, description, production company, budget...etc. The data was scrapped from IMDB website and it contains 86K rows of movies information.\n",
    "\n",
    "1. **Loading Data**<br>\n",
    "SQLAlchemy is used in this script to filter and extract the data from SQLite. \n",
    "\n",
    "2. **Data Processing**<br>\n",
    "In this step, the dataset will go into data processing pipeline that cleans, transform the text and reduce the number of generated features (dimensionality). Transforming the text will be done using TF-IDF which gives low scores to the highly repeated words and higher scores to words that are common in few movie descriptions and thus they will be the ones that the model identifies as important and tries to learn. Due to memory issues, I had to limit the TF-IDF returned features and apply PCA to reduce the number of features so t fits the memory and tospeed up the computing process. Unfortunately, applying dimensionality reduction technique means information loss specially if the number of components were not selected carefully. In my case, I have tried few numbers but again, due to memory issues, I used only 30 components.\n",
    "\n",
    "3. **Movie Recommendation**<br>\n",
    "In this step, the similarity between the selected movie and rest of movies will be done using *Cosine Similarity* function.<br><br>\n",
    "\n",
    "Notes:<br>\n",
    "A. From the results I have seen, it's not that bad! Tunning the TF-IDF parameters and PCA will make a big difference.\n",
    "B. Few movies have weird titles. i.e. *L'uomo d'acciaio* is actually *Man of Steel*, *La promessa* is *The Pledge* and so on.<br><br>"
   ]
  },
  {
   "cell_type": "markdown",
   "id": "charged-thomson",
   "metadata": {},
   "source": [
    "## **Recommendation System**"
   ]
  },
  {
   "cell_type": "markdown",
   "id": "independent-toronto",
   "metadata": {},
   "source": [
    "#### **Extract movies data**"
   ]
  },
  {
   "cell_type": "code",
   "execution_count": 1,
   "id": "guilty-ability",
   "metadata": {},
   "outputs": [],
   "source": [
    "import pandas as pd\n",
    "\n",
    "from sqlalchemy import create_engine, MetaData, select, Table\n",
    "from sqlalchemy import and_, or_\n",
    "from databases import Database"
   ]
  },
  {
   "cell_type": "code",
   "execution_count": 3,
   "id": "indonesian-industry",
   "metadata": {},
   "outputs": [],
   "source": [
    "pd.set_option('display.max_columns', None)"
   ]
  },
  {
   "cell_type": "code",
   "execution_count": 4,
   "id": "personal-summer",
   "metadata": {},
   "outputs": [],
   "source": [
    "DB_PATH = 'sqlite:///backend/data/movies.sqlite3'\n",
    "database = Database(DB_PATH)\n",
    "engine = create_engine(DB_PATH)\n",
    "meta = MetaData()"
   ]
  },
  {
   "cell_type": "code",
   "execution_count": null,
   "id": "atlantic-sending",
   "metadata": {},
   "outputs": [],
   "source": [
    "movies_tb = Table('movies', meta, autoload=True, autoload_with=engine)"
   ]
  },
  {
   "cell_type": "code",
   "execution_count": 5,
   "id": "extended-lancaster",
   "metadata": {},
   "outputs": [],
   "source": [
    "meta.create_all(engine)\n",
    "database.connect()"
   ]
  },
  {
   "cell_type": "code",
   "execution_count": 8,
   "id": "pursuant-traveler",
   "metadata": {},
   "outputs": [],
   "source": [
    "# Convert query result (type list of tuples) along with columns (type sqlalchemy select object) into dictionary / json format\n",
    "def _func_convert_results_to_json(results, columns):\n",
    "    return {col: list(list(zip(*results))[indx]) for indx, col in enumerate(columns)}"
   ]
  },
  {
   "cell_type": "code",
   "execution_count": 9,
   "id": "unauthorized-steal",
   "metadata": {},
   "outputs": [
    {
     "data": {
      "text/html": [
       "<div>\n",
       "<style scoped>\n",
       "    .dataframe tbody tr th:only-of-type {\n",
       "        vertical-align: middle;\n",
       "    }\n",
       "\n",
       "    .dataframe tbody tr th {\n",
       "        vertical-align: top;\n",
       "    }\n",
       "\n",
       "    .dataframe thead th {\n",
       "        text-align: right;\n",
       "    }\n",
       "</style>\n",
       "<table border=\"1\" class=\"dataframe\">\n",
       "  <thead>\n",
       "    <tr style=\"text-align: right;\">\n",
       "      <th></th>\n",
       "      <th>title</th>\n",
       "      <th>year</th>\n",
       "      <th>genre</th>\n",
       "      <th>duration</th>\n",
       "      <th>director</th>\n",
       "      <th>actors</th>\n",
       "      <th>description</th>\n",
       "    </tr>\n",
       "  </thead>\n",
       "  <tbody>\n",
       "    <tr>\n",
       "      <th>0</th>\n",
       "      <td>Kate &amp; Leopold</td>\n",
       "      <td>2001</td>\n",
       "      <td>Comedy, Fantasy, Romance</td>\n",
       "      <td>118</td>\n",
       "      <td>James Mangold</td>\n",
       "      <td>Meg Ryan, Hugh Jackman, Liev Schreiber, Brecki...</td>\n",
       "      <td>An English Duke from 1876 is inadvertedly drag...</td>\n",
       "    </tr>\n",
       "    <tr>\n",
       "      <th>1</th>\n",
       "      <td>L'altra faccia del vento</td>\n",
       "      <td>2018</td>\n",
       "      <td>Drama</td>\n",
       "      <td>122</td>\n",
       "      <td>Orson Welles</td>\n",
       "      <td>John Huston, Oja Kodar, Peter Bogdanovich, Sus...</td>\n",
       "      <td>A Hollywood director emerges from semi-exile w...</td>\n",
       "    </tr>\n",
       "  </tbody>\n",
       "</table>\n",
       "</div>"
      ],
      "text/plain": [
       "                      title  year                     genre  duration  \\\n",
       "0            Kate & Leopold  2001  Comedy, Fantasy, Romance       118   \n",
       "1  L'altra faccia del vento  2018                     Drama       122   \n",
       "\n",
       "        director                                             actors  \\\n",
       "0  James Mangold  Meg Ryan, Hugh Jackman, Liev Schreiber, Brecki...   \n",
       "1   Orson Welles  John Huston, Oja Kodar, Peter Bogdanovich, Sus...   \n",
       "\n",
       "                                         description  \n",
       "0  An English Duke from 1876 is inadvertedly drag...  \n",
       "1  A Hollywood director emerges from semi-exile w...  "
      ]
     },
     "execution_count": 9,
     "metadata": {},
     "output_type": "execute_result"
    }
   ],
   "source": [
    "# Import movies related data\n",
    "# All movies after 1990, and English movies\n",
    "\n",
    "query  = select([\n",
    "    movies_tb.columns.title,\n",
    "    movies_tb.columns.year,\n",
    "    movies_tb.columns.genre,\n",
    "    movies_tb.columns.duration,\n",
    "    movies_tb.columns.director,\n",
    "    movies_tb.columns.actors,\n",
    "    movies_tb.columns.description \n",
    "])\n",
    "\n",
    "query  = query.where(or_(movies_tb.columns.country.like('%USA%'), movies_tb.columns.country.like('%UK%'))) \n",
    "query  = query.where(and_(movies_tb.columns.year >= 1990, movies_tb.columns.language.like('%English%')))\n",
    "\n",
    "result = await database.fetch_all(query)\n",
    "result = _func_convert_results_to_json(results = result, columns = [column.name for column in query.columns])\n",
    "\n",
    "result_df = pd.DataFrame(result)\n",
    "result_df[:2]"
   ]
  },
  {
   "cell_type": "markdown",
   "id": "proved-cheat",
   "metadata": {},
   "source": [
    "#### **Preprocessing Dataset**"
   ]
  },
  {
   "cell_type": "code",
   "execution_count": 10,
   "id": "looking-disability",
   "metadata": {},
   "outputs": [],
   "source": [
    "import re\n",
    "\n",
    "import spacy\n",
    "nlp = spacy.load(\"en_core_web_sm\")\n",
    "\n",
    "from sklearn.feature_extraction.text import TfidfVectorizer\n",
    "from sklearn.decomposition import LatentDirichletAllocation, PCA"
   ]
  },
  {
   "cell_type": "code",
   "execution_count": 11,
   "id": "therapeutic-investigation",
   "metadata": {},
   "outputs": [],
   "source": [
    "def create_content(data):\n",
    "    return data.apply(lambda x: ' '.join(x), axis=1).rename('content')"
   ]
  },
  {
   "cell_type": "code",
   "execution_count": 12,
   "id": "ethical-sphere",
   "metadata": {},
   "outputs": [],
   "source": [
    "def create_genres(data):\n",
    "    return data.str.split(', ').apply(lambda x: pd.Series(1, x)).fillna(0)"
   ]
  },
  {
   "cell_type": "code",
   "execution_count": 13,
   "id": "acting-maria",
   "metadata": {},
   "outputs": [],
   "source": [
    "def group_years(year, bins, labels):\n",
    "    return pd.get_dummies(pd.cut(year, bins=bins, labels=labels))"
   ]
  },
  {
   "cell_type": "code",
   "execution_count": 14,
   "id": "recognized-pension",
   "metadata": {},
   "outputs": [],
   "source": [
    "def transform_duration(data):\n",
    "    return data/100"
   ]
  },
  {
   "cell_type": "code",
   "execution_count": 15,
   "id": "victorian-clear",
   "metadata": {},
   "outputs": [],
   "source": [
    "def initial_text_cleaning(data):\n",
    "    my_stopwords_list = ['year', 'years', 'movie', 'movies', 'mr', 'mrs', 'miss', 'ms', 'mx', 'sir', 'dr', 'mr.', 'mrs.', 'miss.', \n",
    "                         'ms.', 'mx.', 'sir.', 'dr.', 'count', 'counts', 'woo', 'use', 'using', 'part', 'see', 'sees', 'when', 'how', \n",
    "                         'what', 'movie', 'begins', 'begin', 'until', 'one', 'two', 'three', 'much', 'more', 'until', 'used', 'each', \n",
    "                         'everyone', 'six', 'might', 'guides', 'guide']\n",
    "    \n",
    "    return ' '.join([word for word in re.findall(r\"(?i)\\b[a-z]+\\b\", data.lower()) if len(word) > 2 and word not in my_stopwords_list])"
   ]
  },
  {
   "cell_type": "code",
   "execution_count": 16,
   "id": "disabled-director",
   "metadata": {},
   "outputs": [],
   "source": [
    "def clean_text(text):\n",
    "    return ' '.join([w.lemma_ for w in nlp(text) if not w.is_stop and w.pos_ in ['VERB', 'PROPN', 'NOUN', 'ADJ', 'ADV']])"
   ]
  },
  {
   "cell_type": "code",
   "execution_count": 17,
   "id": "ceramic-prior",
   "metadata": {},
   "outputs": [],
   "source": [
    "def transform_text(data):\n",
    "    tfidf_vect = TfidfVectorizer(ngram_range=(1, 2), stop_words='english', min_df=4, max_df=0.50)\n",
    "    vectorized_content = tfidf_vect.fit_transform(data)\n",
    "    return pd.DataFrame(data=vectorized_content.toarray(), columns=tfidf_vect.get_feature_names())"
   ]
  },
  {
   "cell_type": "code",
   "execution_count": 18,
   "id": "interested-hundred",
   "metadata": {},
   "outputs": [],
   "source": [
    "def pca_reduce_tfidf_dimensions(data):\n",
    "    pca = PCA(n_components=30)\n",
    "    return pd.DataFrame(data=pca.fit_transform(data), columns=['PCA_' + str(n) for n in range(1,31)])"
   ]
  },
  {
   "cell_type": "code",
   "execution_count": 19,
   "id": "understanding-hollow",
   "metadata": {},
   "outputs": [],
   "source": [
    "def prepare_dataframe(data):\n",
    "    \n",
    "    years_column, genres_column, duration_column = 'year', 'genre', 'duration'\n",
    "    content_columns = ['title', 'actors', 'director', 'description']\n",
    "    drop_columns = ['actors', 'director', 'description']\n",
    "\n",
    "    bins=[1000, 1990, 2000, 2010, 2020]\n",
    "    labels=['before_1990', 'between_1990_2000', 'between_2000_2010', 'between_2010_2020']\n",
    "\n",
    "    print('Create content task started...')\n",
    "    data = pd.concat([data, create_content(data=data[content_columns])], axis=1)\n",
    "\n",
    "    print('Create genres task started...')\n",
    "    data = pd.concat([data, create_genres(data=data[genres_column])], axis=1)\n",
    "    \n",
    "    print('Transforming years task started...')\n",
    "    data = pd.concat([data, group_years(year=data[years_column], bins=bins, labels=labels)], axis=1)\n",
    "    \n",
    "    print('Transforming duration task started...')\n",
    "    data = pd.concat([data, transform_duration(data=data[duration_column]).rename('transformed_duration')], axis=1)\n",
    "    \n",
    "    print('Initial cleaning content task started...')\n",
    "    data = pd.concat([data, data['content'].apply(initial_text_cleaning).rename('init_clean_content')], axis=1)\n",
    "    \n",
    "    print('Content lemmatization task started...')\n",
    "    data = pd.concat([data, data['init_clean_content'].apply(clean_text).rename('clean_content')], axis=1) # content column will be created by the create_content function\n",
    "    \n",
    "    # Save clean dataset for furthure investigation\n",
    "    # data.to_csv('movies_cleaned_data.csv')\n",
    "    \n",
    "    print('TF-IDF text transformation and LDA dimension reduction task started...')    \n",
    "    data = pd.concat([data, pca_reduce_tfidf_dimensions(transform_text(data['clean_content']))], axis=1)\n",
    "\n",
    "    # Prepare outputs\n",
    "    print('Preparing outputs')\n",
    "    titles = pd.DataFrame(data=data.title, index=range(0,len(data)))\n",
    "    data   = data.drop(['title', 'year', 'genre', 'duration', 'actors', 'director', 'description', 'content', 'init_clean_content', 'clean_content'], axis=1)\n",
    "    \n",
    "    print('Done !')\n",
    "    return titles, data"
   ]
  },
  {
   "cell_type": "code",
   "execution_count": 20,
   "id": "global-letter",
   "metadata": {},
   "outputs": [
    {
     "name": "stdout",
     "output_type": "stream",
     "text": [
      "Create content task started...\n",
      "Create genres task started...\n",
      "Transforming years task started...\n",
      "Transforming duration task started...\n",
      "Initial cleaning content task started...\n",
      "Content lemmatization task started...\n",
      "TF-IDF text transformation and LDA dimension reduction task started...\n",
      "Preparing outputs\n",
      "Done !\n"
     ]
    }
   ],
   "source": [
    "movies_titles, processed_data = prepare_dataframe(data=result_df)"
   ]
  },
  {
   "cell_type": "code",
   "execution_count": 28,
   "id": "applicable-stability",
   "metadata": {},
   "outputs": [],
   "source": [
    "# Save datasets\n",
    "movies_titles.to_csv('movies_titles.csv')\n",
    "processed_data.to_csv('processed_data.csv')"
   ]
  },
  {
   "cell_type": "code",
   "execution_count": 2,
   "id": "entire-cincinnati",
   "metadata": {},
   "outputs": [],
   "source": [
    "# Load datasets\n",
    "movies_titles  = pd.read_csv('movies_titles.csv')\n",
    "processed_data = pd.read_csv('processed_data.csv')"
   ]
  },
  {
   "cell_type": "markdown",
   "id": "abroad-biotechnology",
   "metadata": {},
   "source": [
    "### **Movie Recommendation Using Cosine Similarity**"
   ]
  },
  {
   "cell_type": "code",
   "execution_count": 3,
   "id": "cosmetic-integer",
   "metadata": {},
   "outputs": [],
   "source": [
    "from sklearn.metrics.pairwise import cosine_similarity"
   ]
  },
  {
   "cell_type": "code",
   "execution_count": 17,
   "id": "skilled-digest",
   "metadata": {},
   "outputs": [],
   "source": [
    "def get_recommendation(movie_title):\n",
    "    try: movie_id = movies_titles[movies_titles.title == movie_title].index[0]\n",
    "    except: return 'Movies you have entered is not in this database'\n",
    "    similarity_scores = cosine_similarity(X=processed_data.loc[movie_id].values.reshape(1,-1),Y=processed_data.values)\n",
    "    similarity_scores = {indx: v[0] for indx, v in enumerate(similarity_scores.reshape(-1,1))}\n",
    "    similarity_scores = {i: similarity_scores[i] for i in sorted(similarity_scores, key=similarity_scores.get, reverse=True)[1:11]}\n",
    "    similarity_scores = pd.DataFrame(data={'similarity_scores':[str(round(i * 100, 1)) + ' %' for i in similarity_scores.values()]}, index=similarity_scores.keys())\n",
    "    return pd.merge(movies_titles, similarity_scores, left_index=True, right_index=True, how='right')"
   ]
  },
  {
   "cell_type": "code",
   "execution_count": 18,
   "id": "passing-strand",
   "metadata": {},
   "outputs": [
    {
     "data": {
      "text/html": [
       "<div>\n",
       "<style scoped>\n",
       "    .dataframe tbody tr th:only-of-type {\n",
       "        vertical-align: middle;\n",
       "    }\n",
       "\n",
       "    .dataframe tbody tr th {\n",
       "        vertical-align: top;\n",
       "    }\n",
       "\n",
       "    .dataframe thead th {\n",
       "        text-align: right;\n",
       "    }\n",
       "</style>\n",
       "<table border=\"1\" class=\"dataframe\">\n",
       "  <thead>\n",
       "    <tr style=\"text-align: right;\">\n",
       "      <th></th>\n",
       "      <th>title</th>\n",
       "      <th>similarity_scores</th>\n",
       "    </tr>\n",
       "  </thead>\n",
       "  <tbody>\n",
       "    <tr>\n",
       "      <th>16586</th>\n",
       "      <td>Avengers: Age of Ultron</td>\n",
       "      <td>99.9 %</td>\n",
       "    </tr>\n",
       "    <tr>\n",
       "      <th>19342</th>\n",
       "      <td>Avengers: Infinity War</td>\n",
       "      <td>99.9 %</td>\n",
       "    </tr>\n",
       "    <tr>\n",
       "      <th>18414</th>\n",
       "      <td>Captain America: Civil War</td>\n",
       "      <td>99.9 %</td>\n",
       "    </tr>\n",
       "    <tr>\n",
       "      <th>14742</th>\n",
       "      <td>Captain America: The Winter Soldier</td>\n",
       "      <td>99.8 %</td>\n",
       "    </tr>\n",
       "    <tr>\n",
       "      <th>14031</th>\n",
       "      <td>Ready Player One</td>\n",
       "      <td>99.8 %</td>\n",
       "    </tr>\n",
       "    <tr>\n",
       "      <th>18844</th>\n",
       "      <td>Rogue One: A Star Wars Story</td>\n",
       "      <td>99.7 %</td>\n",
       "    </tr>\n",
       "    <tr>\n",
       "      <th>12866</th>\n",
       "      <td>Into Darkness - Star Trek</td>\n",
       "      <td>99.7 %</td>\n",
       "    </tr>\n",
       "    <tr>\n",
       "      <th>18884</th>\n",
       "      <td>Solo: A Star Wars Story</td>\n",
       "      <td>99.7 %</td>\n",
       "    </tr>\n",
       "    <tr>\n",
       "      <th>19712</th>\n",
       "      <td>Maze Runner - La rivelazione</td>\n",
       "      <td>99.7 %</td>\n",
       "    </tr>\n",
       "    <tr>\n",
       "      <th>10601</th>\n",
       "      <td>The Amazing Spider-Man</td>\n",
       "      <td>99.7 %</td>\n",
       "    </tr>\n",
       "  </tbody>\n",
       "</table>\n",
       "</div>"
      ],
      "text/plain": [
       "                                     title similarity_scores\n",
       "16586              Avengers: Age of Ultron            99.9 %\n",
       "19342               Avengers: Infinity War            99.9 %\n",
       "18414           Captain America: Civil War            99.9 %\n",
       "14742  Captain America: The Winter Soldier            99.8 %\n",
       "14031                     Ready Player One            99.8 %\n",
       "18844         Rogue One: A Star Wars Story            99.7 %\n",
       "12866            Into Darkness - Star Trek            99.7 %\n",
       "18884              Solo: A Star Wars Story            99.7 %\n",
       "19712         Maze Runner - La rivelazione            99.7 %\n",
       "10601               The Amazing Spider-Man            99.7 %"
      ]
     },
     "execution_count": 18,
     "metadata": {},
     "output_type": "execute_result"
    }
   ],
   "source": [
    "get_recommendation('The Avengers')"
   ]
  },
  {
   "cell_type": "code",
   "execution_count": 20,
   "id": "instant-banks",
   "metadata": {},
   "outputs": [
    {
     "data": {
      "text/html": [
       "<div>\n",
       "<style scoped>\n",
       "    .dataframe tbody tr th:only-of-type {\n",
       "        vertical-align: middle;\n",
       "    }\n",
       "\n",
       "    .dataframe tbody tr th {\n",
       "        vertical-align: top;\n",
       "    }\n",
       "\n",
       "    .dataframe thead th {\n",
       "        text-align: right;\n",
       "    }\n",
       "</style>\n",
       "<table border=\"1\" class=\"dataframe\">\n",
       "  <thead>\n",
       "    <tr style=\"text-align: right;\">\n",
       "      <th></th>\n",
       "      <th>title</th>\n",
       "      <th>similarity_scores</th>\n",
       "    </tr>\n",
       "  </thead>\n",
       "  <tbody>\n",
       "    <tr>\n",
       "      <th>6783</th>\n",
       "      <td>Mystic River</td>\n",
       "      <td>99.4 %</td>\n",
       "    </tr>\n",
       "    <tr>\n",
       "      <th>5363</th>\n",
       "      <td>La promessa</td>\n",
       "      <td>99.0 %</td>\n",
       "    </tr>\n",
       "    <tr>\n",
       "      <th>9222</th>\n",
       "      <td>State of Play</td>\n",
       "      <td>99.0 %</td>\n",
       "    </tr>\n",
       "    <tr>\n",
       "      <th>8832</th>\n",
       "      <td>Inside Man</td>\n",
       "      <td>98.9 %</td>\n",
       "    </tr>\n",
       "    <tr>\n",
       "      <th>7737</th>\n",
       "      <td>Black Dahlia</td>\n",
       "      <td>98.9 %</td>\n",
       "    </tr>\n",
       "    <tr>\n",
       "      <th>10491</th>\n",
       "      <td>In the Electric Mist - L'occhio del ciclone</td>\n",
       "      <td>98.8 %</td>\n",
       "    </tr>\n",
       "    <tr>\n",
       "      <th>9274</th>\n",
       "      <td>Nella valle di Elah</td>\n",
       "      <td>98.7 %</td>\n",
       "    </tr>\n",
       "    <tr>\n",
       "      <th>11575</th>\n",
       "      <td>The Limits of Control</td>\n",
       "      <td>98.7 %</td>\n",
       "    </tr>\n",
       "    <tr>\n",
       "      <th>8783</th>\n",
       "      <td>Gone Baby Gone</td>\n",
       "      <td>98.6 %</td>\n",
       "    </tr>\n",
       "    <tr>\n",
       "      <th>13944</th>\n",
       "      <td>Thorne: Scaredycat</td>\n",
       "      <td>98.5 %</td>\n",
       "    </tr>\n",
       "  </tbody>\n",
       "</table>\n",
       "</div>"
      ],
      "text/plain": [
       "                                             title similarity_scores\n",
       "6783                                  Mystic River            99.4 %\n",
       "5363                                   La promessa            99.0 %\n",
       "9222                                 State of Play            99.0 %\n",
       "8832                                    Inside Man            98.9 %\n",
       "7737                                  Black Dahlia            98.9 %\n",
       "10491  In the Electric Mist - L'occhio del ciclone            98.8 %\n",
       "9274                           Nella valle di Elah            98.7 %\n",
       "11575                        The Limits of Control            98.7 %\n",
       "8783                                Gone Baby Gone            98.6 %\n",
       "13944                           Thorne: Scaredycat            98.5 %"
      ]
     },
     "execution_count": 20,
     "metadata": {},
     "output_type": "execute_result"
    }
   ],
   "source": [
    "get_recommendation('Zodiac')"
   ]
  },
  {
   "cell_type": "code",
   "execution_count": 23,
   "id": "monetary-valuable",
   "metadata": {},
   "outputs": [
    {
     "data": {
      "text/plain": [
       "'Movies you have entered is not in this database'"
      ]
     },
     "execution_count": 23,
     "metadata": {},
     "output_type": "execute_result"
    }
   ],
   "source": [
    "get_recommendation('Horrible Bosses')"
   ]
  }
 ],
 "metadata": {
  "kernelspec": {
   "display_name": "Python 3",
   "language": "python",
   "name": "python3"
  },
  "language_info": {
   "codemirror_mode": {
    "name": "ipython",
    "version": 3
   },
   "file_extension": ".py",
   "mimetype": "text/x-python",
   "name": "python",
   "nbconvert_exporter": "python",
   "pygments_lexer": "ipython3",
   "version": "3.8.5"
  }
 },
 "nbformat": 4,
 "nbformat_minor": 5
}
